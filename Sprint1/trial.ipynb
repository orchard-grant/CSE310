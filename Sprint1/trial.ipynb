{
 "cells": [
  {
   "cell_type": "code",
   "execution_count": 2,
   "id": "3136fa26",
   "metadata": {},
   "outputs": [],
   "source": [
    "import polars as pl \n",
    "from sklearn.linear_model import LinearRegression\n",
    "from sklearn.model_selection import train_test_split"
   ]
  },
  {
   "cell_type": "code",
   "execution_count": 6,
   "id": "bec81e65",
   "metadata": {},
   "outputs": [
    {
     "name": "stdout",
     "output_type": "stream",
     "text": [
      "Coefficients: [  156.9228355  -9845.98485233 17230.86579867]\n",
      "Intercept: 62461.10390599392\n",
      "R² score: 0.9981635275331978\n"
     ]
    }
   ],
   "source": [
    "df = pl.DataFrame({\n",
    "    \"sqft\": [900, 1100, 1500, 1800, 2200],\n",
    "    \"beds\": [2, 3, 3, 4, 4],\n",
    "    \"baths\": [1, 2, 2, 2, 3],\n",
    "    \"price\": [200000, 240000, 300000, 340000, 420000]\n",
    "})\n",
    "\n",
    "X = df.select([\"sqft\",\"beds\",\"baths\"]).to_numpy()\n",
    "y = df[\"price\"].to_numpy()\n",
    "\n",
    "X_train, X_test, y_train, y_test = train_test_split(X, y, test_size=0.4, random_state=0)\n",
    "\n",
    "model = LinearRegression().fit(X_train, y_train)\n",
    "\n",
    "print(\"Coefficients:\", model.coef_)\n",
    "print(\"Intercept:\", model.intercept_)\n",
    "print(\"R² score:\", model.score(X_test, y_test))"
   ]
  }
 ],
 "metadata": {
  "kernelspec": {
   "display_name": ".venv (3.11.9)",
   "language": "python",
   "name": "python3"
  },
  "language_info": {
   "codemirror_mode": {
    "name": "ipython",
    "version": 3
   },
   "file_extension": ".py",
   "mimetype": "text/x-python",
   "name": "python",
   "nbconvert_exporter": "python",
   "pygments_lexer": "ipython3",
   "version": "3.11.9"
  }
 },
 "nbformat": 4,
 "nbformat_minor": 5
}
